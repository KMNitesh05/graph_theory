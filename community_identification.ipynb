{
 "cells": [
  {
   "cell_type": "markdown",
   "id": "4ba0e905",
   "metadata": {},
   "source": [
    "## communities identification and distribution ## "
   ]
  },
  {
   "cell_type": "code",
   "execution_count": null,
   "id": "c8d3462c",
   "metadata": {},
   "outputs": [],
   "source": [
    "import networkx as nx\n",
    "import numpy as np \n",
    "import random \n",
    "\n",
    "# Create an empty graph\n",
    "g = nx.Graph()\n",
    "\n",
    "# Add 20 nodes to the graph\n",
    "for i in range(20):\n",
    "    g.add_node(i)\n",
    "\n",
    "# Add 15 edges to the graph\n",
    "for i in range(15):\n",
    "    # Generate two random nodes\n",
    "    n1 = random.randint(0, 19)\n",
    "    n2 = random.randint(0, 19)\n",
    "    # Add an edge between the two nodes\n",
    "    g.add_edge(n1, n2)\n",
    "print(g)    "
   ]
  },
  {
   "cell_type": "code",
   "execution_count": null,
   "id": "acbe299a",
   "metadata": {},
   "outputs": [],
   "source": [
    "import community.community_louvain as community_louvain\n",
    "# Create the graph\n",
    "\n",
    "print(g)\n",
    "# Add the nodes and edges to the graph\n",
    "# ...\n",
    "\n",
    "# Find the communities within the graph\n",
    "partition = community_louvain.best_partition(g)\n",
    "\n",
    "# Print the communities\n",
    "for com in set(partition.values()):\n",
    "    members = [nodes for nodes in partition.keys() if partition[nodes] == com]\n",
    "    print(\"Community\", com, \":\", members)"
   ]
  },
  {
   "cell_type": "code",
   "execution_count": null,
   "id": "4509f882",
   "metadata": {},
   "outputs": [],
   "source": [
    "print(partition)"
   ]
  },
  {
   "cell_type": "code",
   "execution_count": null,
   "id": "e290eec8",
   "metadata": {},
   "outputs": [],
   "source": [
    "import matplotlib.pyplot as plt\n",
    "\n",
    "# Count the number of nodes in each community\n",
    "com_sizes = {}\n",
    "for com in set(partition.values()):\n",
    "    com_sizes[com] = len([nodes for nodes in partition.keys() if partition[nodes] == com])\n",
    "\n",
    "# Plot the distribution of the communities\n",
    "plt.bar(com_sizes.keys(), com_sizes.values())\n",
    "plt.xlabel(\"Community\")\n",
    "plt.ylabel(\"Number of nodes\")\n",
    "plt.show()"
   ]
  },
  {
   "cell_type": "code",
   "execution_count": null,
   "id": "84bcc514",
   "metadata": {},
   "outputs": [],
   "source": [
    "# Calculate the sizes of the communities\n",
    "sizes = []\n",
    "for com in set(partition.values()):\n",
    "    members = [nodes for nodes in partition.keys() if partition[nodes] == com]\n",
    "    sizes.append(len(members))\n",
    "\n",
    "# Plot the histogram of the community sizes\n",
    "plt.hist(sizes, bins=20)\n",
    "plt.xlabel(\"Community size\")\n",
    "plt.ylabel(\"Frequency\")\n",
    "plt.show()"
   ]
  },
  {
   "cell_type": "code",
   "execution_count": null,
   "id": "5a2a8a81",
   "metadata": {},
   "outputs": [],
   "source": [
    "## 100 nodes and 150 edges graph ## \n",
    "\n",
    "# Create an empty graph\n",
    "g = nx.Graph()\n",
    "\n",
    "# Add 100 nodes to the graph\n",
    "for i in range(100):\n",
    "    g.add_node(i)\n",
    "\n",
    "# Add 150 edges to the graph\n",
    "for i in range(150):\n",
    "    # Generate two random nodes\n",
    "    n1 = random.randint(0, 99)\n",
    "    n2 = random.randint(0, 99)\n",
    "    # Add an edge between the two nodes\n",
    "    g.add_edge(n1, n2)\n",
    "\n",
    "# Find the communities within the graph\n",
    "partition = community_louvain.best_partition(g)\n",
    "\n",
    "# Calculate the sizes of the communities\n",
    "sizes = []\n",
    "for com in set(partition.values()):\n",
    "    members = [nodes for nodes in partition.keys() if partition[nodes] == com]\n",
    "    sizes.append(len(members))\n",
    "\n",
    "# Plot the histogram of the community sizes\n",
    "plt.hist(sizes, bins=20)\n",
    "plt.xlabel(\"Community size\")\n",
    "plt.ylabel(\"Frequency\")\n",
    "plt.show()"
   ]
  },
  {
   "cell_type": "code",
   "execution_count": null,
   "id": "1a78a15c",
   "metadata": {},
   "outputs": [],
   "source": [
    "## comparision of the Louvain and Leiden communities ## "
   ]
  },
  {
   "cell_type": "code",
   "execution_count": null,
   "id": "20f9662d",
   "metadata": {},
   "outputs": [],
   "source": [
    "!pip install community\n",
    "!pip install leidenalg"
   ]
  },
  {
   "cell_type": "code",
   "execution_count": null,
   "id": "ddfc4248",
   "metadata": {},
   "outputs": [],
   "source": [
    "import networkx as nx\n",
    "import leidenalg\n",
    "import matplotlib.pyplot as plt\n",
    "import community.community_louvain as community_louvain\n",
    "import matplotlib.pyplot as plt\n",
    "import random \n",
    "import igraph \n",
    "\n",
    "# Create an empty graph\n",
    "g = nx.Graph()\n",
    "\n",
    "# Add 100 nodes to the graph\n",
    "for i in range(100):\n",
    "    g.add_node(i)\n",
    "\n",
    "# Add 150 edges to the graph\n",
    "for i in range(150):\n",
    "    # Generate two random nodes\n",
    "    n1 = random.randint(0, 99)\n",
    "    n2 = random.randint(0, 99)\n",
    "    # Add an edge between the two nodes\n",
    "    g.add_edge(n1, n2)\n",
    "\n",
    "g2 = igraph.Graph.from_networkx(g)\n",
    "# Identify the communities within the graph using the Leiden algorithm\n",
    "leiden_partition = leidenalg.find_partition(g2, leidenalg.ModularityVertexPartition)\n",
    "#print(leiden_partition)\n",
    "# Calculate the sizes of the communities\n",
    "leiden_sizes = []\n",
    "for com in leiden_partition:\n",
    "    print(com)\n",
    "    members = [nodes for nodes in com]\n",
    "    leiden_sizes.append(len(members))\n",
    "\n",
    "\n",
    "\n",
    "# Find the communities within the graph using the Louvain algorithm\n",
    "louvain_partition = community_louvain.best_partition(g)\n",
    "\n",
    "# Calculate the sizes of the communities\n",
    "louvain_sizes = []\n",
    "for com in set(louvain_partition.values()):\n",
    "    members = [nodes for nodes in louvain_partition.keys() if louvain_partition[nodes] == com]\n",
    "    louvain_sizes.append(len(members))\n",
    "\n",
    "# Plot the histograms of the community sizes\n",
    "plt.hist(leiden_sizes, bins=20, alpha=0.5, label=\"Leiden algorithm\")\n",
    "plt.hist(louvain_sizes, bins=20, alpha=0.5, label=\"Louvain algorithm\")\n",
    "plt.xlabel(\"Community size\")\n",
    "plt.ylabel(\"Frequency\")\n",
    "plt.legend()\n",
    "plt.show()"
   ]
  },
  {
   "cell_type": "code",
   "execution_count": null,
   "id": "4ecc9de7",
   "metadata": {},
   "outputs": [],
   "source": []
  },
  {
   "cell_type": "code",
   "execution_count": null,
   "id": "d4eb7692",
   "metadata": {},
   "outputs": [],
   "source": []
  },
  {
   "cell_type": "code",
   "execution_count": null,
   "id": "0d43ff0e",
   "metadata": {},
   "outputs": [],
   "source": []
  },
  {
   "cell_type": "code",
   "execution_count": null,
   "id": "6f06b18e",
   "metadata": {},
   "outputs": [],
   "source": []
  },
  {
   "cell_type": "code",
   "execution_count": null,
   "id": "1ff23c20",
   "metadata": {},
   "outputs": [],
   "source": []
  },
  {
   "cell_type": "code",
   "execution_count": null,
   "id": "f880694e",
   "metadata": {},
   "outputs": [],
   "source": []
  },
  {
   "cell_type": "code",
   "execution_count": null,
   "id": "2e6a1c18",
   "metadata": {},
   "outputs": [],
   "source": []
  },
  {
   "cell_type": "code",
   "execution_count": null,
   "id": "fe7b49ef",
   "metadata": {},
   "outputs": [],
   "source": []
  },
  {
   "cell_type": "code",
   "execution_count": null,
   "id": "fadc9efc",
   "metadata": {},
   "outputs": [],
   "source": []
  }
 ],
 "metadata": {
  "kernelspec": {
   "display_name": "Python 3 (ipykernel)",
   "language": "python",
   "name": "python3"
  },
  "language_info": {
   "codemirror_mode": {
    "name": "ipython",
    "version": 3
   },
   "file_extension": ".py",
   "mimetype": "text/x-python",
   "name": "python",
   "nbconvert_exporter": "python",
   "pygments_lexer": "ipython3",
   "version": "3.9.13"
  }
 },
 "nbformat": 4,
 "nbformat_minor": 5
}
